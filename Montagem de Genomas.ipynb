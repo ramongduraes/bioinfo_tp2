{
 "cells": [
  {
   "cell_type": "code",
   "execution_count": 14,
   "id": "successful-connection",
   "metadata": {},
   "outputs": [],
   "source": [
    "reads = ['TGGCA', 'GCATTGCAA', 'TGCAAT', 'CAATT', 'ATTTGAC']\n",
    "dna_seq = 'TGGCATTGCAATTTGAC'"
   ]
  },
  {
   "cell_type": "markdown",
   "id": "difficult-breakfast",
   "metadata": {},
   "source": [
    "# OLC "
   ]
  },
  {
   "cell_type": "markdown",
   "id": "executive-journey",
   "metadata": {},
   "source": [
    "- overlap()\n",
    "- naive_overlap()\n",
    "- pegar_maximo_overlap()\n",
    "- olc_guloso()"
   ]
  },
  {
   "cell_type": "code",
   "execution_count": 15,
   "id": "southeast-monte",
   "metadata": {},
   "outputs": [
    {
     "name": "stdout",
     "output_type": "stream",
     "text": [
      "3\n"
     ]
    }
   ],
   "source": [
    "def overlap(a, b, min_len=3):\n",
    "    inicio = 0\n",
    "    while True:\n",
    "        inicio = a.find(b[:min_len], inicio)\n",
    "        if inicio == -1:\n",
    "            return 0\n",
    "        elif b.startswith(a[inicio:]):\n",
    "            return len(a) - inicio\n",
    "        inicio += 1\n",
    "\n",
    "print(overlap('TGGCA', 'GCATTGCAA', 3))"
   ]
  },
  {
   "cell_type": "code",
   "execution_count": 16,
   "id": "anticipated-breakfast",
   "metadata": {},
   "outputs": [
    {
     "data": {
      "text/plain": [
       "{('TGGCA', 'GCATTGCAA'): 3,\n",
       " ('GCATTGCAA', 'TGCAAT'): 5,\n",
       " ('GCATTGCAA', 'CAATT'): 3,\n",
       " ('TGCAAT', 'CAATT'): 4,\n",
       " ('CAATT', 'ATTTGAC'): 3}"
      ]
     },
     "execution_count": 16,
     "metadata": {},
     "output_type": "execute_result"
    }
   ],
   "source": [
    "from itertools import permutations\n",
    "\n",
    "def naive_overlap(reads, min_len):\n",
    "    overlaps = dict()\n",
    "    \n",
    "    for a, b in permutations(reads, 2):\n",
    "        overlap_len = overlap(a, b, min_len)\n",
    "        \n",
    "        if overlap_len > 0:\n",
    "            overlaps[(a, b)] = overlap_len\n",
    "    return overlaps\n",
    "\n",
    "naive_overlap(reads, min_len=3)"
   ]
  },
  {
   "cell_type": "code",
   "execution_count": 17,
   "id": "tracked-reference",
   "metadata": {},
   "outputs": [
    {
     "data": {
      "text/plain": [
       "('GCATTGCAA', 'TGCAAT', 5)"
      ]
     },
     "execution_count": 17,
     "metadata": {},
     "output_type": "execute_result"
    }
   ],
   "source": [
    "def pegar_maximo_overlap(reads, min_len):\n",
    "    readA, readB = None, None\n",
    "    melhor_overlap = 0\n",
    "    \n",
    "    for a,b in permutations(reads, 2):\n",
    "        overlap_len = overlap(a, b, min_len)\n",
    "        \n",
    "        if overlap_len > melhor_overlap:\n",
    "            readA, readB = a, b\n",
    "            melhor_overlap = overlap_len\n",
    "    \n",
    "    return readA, readB, melhor_overlap\n",
    "\n",
    "pegar_maximo_overlap(reads, min_len=3)"
   ]
  },
  {
   "cell_type": "code",
   "execution_count": 18,
   "id": "discrete-living",
   "metadata": {},
   "outputs": [
    {
     "data": {
      "text/plain": [
       "'TGGCATTGCAATTTGAC'"
      ]
     },
     "execution_count": 18,
     "metadata": {},
     "output_type": "execute_result"
    }
   ],
   "source": [
    "def olc_guloso(reads, min_len):\n",
    "    readA, readB, overlap_len = pegar_maximo_overlap(reads, min_len)\n",
    "    \n",
    "    while overlap_len > 0:\n",
    "        reads.remove(readA)\n",
    "        reads.remove(readB)\n",
    "        reads.append(readA + readB[overlap_len:])\n",
    "        \n",
    "        readA, readB,overlap_len = pegar_maximo_overlap(reads, min_len)\n",
    "    \n",
    "    return ''.join(reads)\n",
    "\n",
    "olc_guloso(reads, min_len=3)"
   ]
  },
  {
   "cell_type": "code",
   "execution_count": 19,
   "id": "becoming-clerk",
   "metadata": {},
   "outputs": [],
   "source": [
    "# limitação - rigidez"
   ]
  },
  {
   "cell_type": "markdown",
   "id": "banner-toddler",
   "metadata": {},
   "source": [
    "# Grafos de Brujin \n",
    "\n",
    "A ideia principal do algoritmo é trabalhar com a sobreposição de k-mers. Vamos trabalhar somente com as funções de_brujin_graph() e visualizar_de_brujin()."
   ]
  },
  {
   "cell_type": "code",
   "execution_count": 21,
   "id": "logical-scoop",
   "metadata": {},
   "outputs": [
    {
     "name": "stdout",
     "output_type": "stream",
     "text": [
      "TGGCATTGCAATTTGAC\n"
     ]
    }
   ],
   "source": [
    "print(dna_seq)\n",
    "# Desafio: trabalhar a partir da sequencia de dna pra pegar o grafo pra entender a logica"
   ]
  },
  {
   "cell_type": "code",
   "execution_count": 24,
   "id": "consecutive-gamma",
   "metadata": {},
   "outputs": [],
   "source": [
    "def de_brujin_graph(dna_seq, kmer):\n",
    "    vertices = set()\n",
    "    arestas = list()\n",
    "    \n",
    "    for i in range(len(dna_seq) - kmer + 1):\n",
    "        vertices.add(dna_seq[i: i+kmer-1])\n",
    "        vertices.add(dna_seq[i+1: i+kmer])\n",
    "        \n",
    "        arestas.append((dna_seq[i:i+kmer-1], dna_seq[i+1: i+kmer]))\n",
    "    \n",
    "    return vertices, arestas"
   ]
  },
  {
   "cell_type": "code",
   "execution_count": 26,
   "id": "dried-forge",
   "metadata": {},
   "outputs": [],
   "source": [
    "vertices, arestas = de_brujin_graph(dna_seq, 4)"
   ]
  },
  {
   "cell_type": "code",
   "execution_count": 27,
   "id": "stretch-payday",
   "metadata": {},
   "outputs": [
    {
     "name": "stdout",
     "output_type": "stream",
     "text": [
      "Os vértices são {'AAT', 'TGC', 'GCA', 'TGG', 'TTG', 'GGC', 'TTT', 'GAC', 'ATT', 'CAT', 'CAA', 'TGA'}\n"
     ]
    }
   ],
   "source": [
    "print(f'Os vértices são {vertices}')"
   ]
  },
  {
   "cell_type": "code",
   "execution_count": 28,
   "id": "worst-dubai",
   "metadata": {},
   "outputs": [
    {
     "name": "stdout",
     "output_type": "stream",
     "text": [
      "As arestas são [('TGG', 'GGC'), ('GGC', 'GCA'), ('GCA', 'CAT'), ('CAT', 'ATT'), ('ATT', 'TTG'), ('TTG', 'TGC'), ('TGC', 'GCA'), ('GCA', 'CAA'), ('CAA', 'AAT'), ('AAT', 'ATT'), ('ATT', 'TTT'), ('TTT', 'TTG'), ('TTG', 'TGA'), ('TGA', 'GAC')]\n"
     ]
    }
   ],
   "source": [
    "print(f'As arestas são {arestas}')"
   ]
  },
  {
   "cell_type": "code",
   "execution_count": 33,
   "id": "former-stopping",
   "metadata": {},
   "outputs": [],
   "source": [
    "def visualizar_de_brujin(dna_seq, kmer):\n",
    "    vertices, arestas = de_brujin_graph(dna_seq, kmer)\n",
    "    \n",
    "    dot_str = \"digraph \\\"DeBrujin graph\\\" {\\n\"\n",
    "    \n",
    "    for v in vertices:\n",
    "        dot_str += f' {v} [label=\"{v}\"];\\n'\n",
    "                                          \n",
    "    for fonte, destino in arestas:\n",
    "        dot_str += f' {fonte} -> {destino};\\n'\n",
    "    \n",
    "    dot_str += '}\\n'\n",
    "    return dot_str"
   ]
  },
  {
   "cell_type": "code",
   "execution_count": 35,
   "id": "peripheral-nicholas",
   "metadata": {},
   "outputs": [
    {
     "name": "stdout",
     "output_type": "stream",
     "text": [
      "digraph \"DeBrujin graph\" {\n",
      " AAT [label=\"AAT\"];\n",
      " TGC [label=\"TGC\"];\n",
      " GCA [label=\"GCA\"];\n",
      " TGG [label=\"TGG\"];\n",
      " TTG [label=\"TTG\"];\n",
      " GGC [label=\"GGC\"];\n",
      " TTT [label=\"TTT\"];\n",
      " GAC [label=\"GAC\"];\n",
      " ATT [label=\"ATT\"];\n",
      " CAT [label=\"CAT\"];\n",
      " CAA [label=\"CAA\"];\n",
      " TGA [label=\"TGA\"];\n",
      " TGG -> GGC;\n",
      " GGC -> GCA;\n",
      " GCA -> CAT;\n",
      " CAT -> ATT;\n",
      " ATT -> TTG;\n",
      " TTG -> TGC;\n",
      " TGC -> GCA;\n",
      " GCA -> CAA;\n",
      " CAA -> AAT;\n",
      " AAT -> ATT;\n",
      " ATT -> TTT;\n",
      " TTT -> TTG;\n",
      " TTG -> TGA;\n",
      " TGA -> GAC;\n",
      "}\n",
      "\n"
     ]
    }
   ],
   "source": [
    "print(visualizar_de_brujin(dna_seq, 4))"
   ]
  },
  {
   "cell_type": "code",
   "execution_count": 36,
   "id": "center-focus",
   "metadata": {},
   "outputs": [
    {
     "name": "stderr",
     "output_type": "stream",
     "text": [
      "UsageError: Line magic function `%dotstr` not found.\n"
     ]
    }
   ],
   "source": [
    "%dotstr visualizar_de_brujin(dna_seq, 4)"
   ]
  },
  {
   "cell_type": "markdown",
   "id": "mysterious-trader",
   "metadata": {},
   "source": [
    "**limitação**: o grafo foi feito a partir da sequencia (dna_seq). O que se espera é utilizar cada kmer e depois implementar um algoritmo de caminho Euleriano."
   ]
  }
 ],
 "metadata": {
  "kernelspec": {
   "display_name": "Python 3",
   "language": "python",
   "name": "python3"
  },
  "language_info": {
   "codemirror_mode": {
    "name": "ipython",
    "version": 3
   },
   "file_extension": ".py",
   "mimetype": "text/x-python",
   "name": "python",
   "nbconvert_exporter": "python",
   "pygments_lexer": "ipython3",
   "version": "3.8.5"
  }
 },
 "nbformat": 4,
 "nbformat_minor": 5
}
