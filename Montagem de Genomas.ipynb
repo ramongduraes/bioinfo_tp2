{
 "cells": [
  {
   "cell_type": "markdown",
   "id": "pointed-chassis",
   "metadata": {},
   "source": [
    "# Bioinformática - TP 2 - Montagem de Genomas\n",
    "\n",
    "\n",
    "**Alunos:**\n",
    "- Francisco Galuppo Azevedo - 2017014960\n",
    "- Mathias Coelho Batista - 2020722784\n",
    "- Pedro Souza - 2013007684\n",
    "- Ramon Durães - 2019720188\n",
    "- Thaís Soares Lamas - 2017014910"
   ]
  },
  {
   "cell_type": "markdown",
   "id": "textile-bryan",
   "metadata": {},
   "source": [
    "## 1. Overlap-Layout-Consensus"
   ]
  },
  {
   "cell_type": "markdown",
   "id": "complicated-sucking",
   "metadata": {},
   "source": [
    "Segue abaixo o código para a montagem de genomas utilizando a estratégia Overlap-Layout-Consensus (chamada de OLC abaixo). "
   ]
  },
  {
   "cell_type": "code",
   "execution_count": 1,
   "id": "reported-theta",
   "metadata": {},
   "outputs": [],
   "source": [
    "from itertools import permutations"
   ]
  },
  {
   "cell_type": "code",
   "execution_count": 2,
   "id": "successful-connection",
   "metadata": {},
   "outputs": [],
   "source": [
    "reads = ['TGGCA', 'GCATTGCAA', 'TGCAAT', 'CAATT', 'ATTTGAC']\n",
    "dna_seq = 'TGGCATTGCAATTTGAC'"
   ]
  },
  {
   "cell_type": "code",
   "execution_count": 3,
   "id": "southeast-monte",
   "metadata": {},
   "outputs": [
    {
     "name": "stdout",
     "output_type": "stream",
     "text": [
      "3\n"
     ]
    }
   ],
   "source": [
    "def overlap(a, b, min_len=3):\n",
    "    inicio = 0\n",
    "    while True:\n",
    "        inicio = a.find(b[:min_len], inicio)\n",
    "        if inicio == -1:\n",
    "            return 0\n",
    "        elif b.startswith(a[inicio:]):\n",
    "            return len(a) - inicio\n",
    "        inicio += 1\n",
    "\n",
    "print(overlap('TGGCA', 'GCATTGCAA', 3))"
   ]
  },
  {
   "cell_type": "code",
   "execution_count": 4,
   "id": "anticipated-breakfast",
   "metadata": {},
   "outputs": [
    {
     "data": {
      "text/plain": [
       "{('TGGCA', 'GCATTGCAA'): 3,\n",
       " ('GCATTGCAA', 'TGCAAT'): 5,\n",
       " ('GCATTGCAA', 'CAATT'): 3,\n",
       " ('TGCAAT', 'CAATT'): 4,\n",
       " ('CAATT', 'ATTTGAC'): 3}"
      ]
     },
     "execution_count": 4,
     "metadata": {},
     "output_type": "execute_result"
    }
   ],
   "source": [
    "def naive_overlap(reads, min_len):\n",
    "    overlaps = dict()\n",
    "    \n",
    "    for a, b in permutations(reads, 2):\n",
    "        overlap_len = overlap(a, b, min_len)\n",
    "        \n",
    "        if overlap_len > 0:\n",
    "            overlaps[(a, b)] = overlap_len\n",
    "    return overlaps\n",
    "\n",
    "naive_overlap(reads, min_len=3)"
   ]
  },
  {
   "cell_type": "code",
   "execution_count": 5,
   "id": "tracked-reference",
   "metadata": {},
   "outputs": [
    {
     "data": {
      "text/plain": [
       "('GCATTGCAA', 'TGCAAT', 5)"
      ]
     },
     "execution_count": 5,
     "metadata": {},
     "output_type": "execute_result"
    }
   ],
   "source": [
    "def pegar_maximo_overlap(reads, min_len):\n",
    "    readA, readB = None, None\n",
    "    melhor_overlap = 0\n",
    "    \n",
    "    for a,b in permutations(reads, 2):\n",
    "        overlap_len = overlap(a, b, min_len)\n",
    "        \n",
    "        if overlap_len > melhor_overlap:\n",
    "            readA, readB = a, b\n",
    "            melhor_overlap = overlap_len\n",
    "    \n",
    "    return readA, readB, melhor_overlap\n",
    "\n",
    "pegar_maximo_overlap(reads, min_len=3)"
   ]
  },
  {
   "cell_type": "code",
   "execution_count": 6,
   "id": "discrete-living",
   "metadata": {},
   "outputs": [
    {
     "data": {
      "text/plain": [
       "'TGGCATTGCAATTTGAC'"
      ]
     },
     "execution_count": 6,
     "metadata": {},
     "output_type": "execute_result"
    }
   ],
   "source": [
    "def olc_guloso(reads, min_len):\n",
    "    readA, readB, overlap_len = pegar_maximo_overlap(reads, min_len)\n",
    "    \n",
    "    while overlap_len > 0:\n",
    "        reads.remove(readA)\n",
    "        reads.remove(readB)\n",
    "        reads.append(readA + readB[overlap_len:])\n",
    "        \n",
    "        readA, readB,overlap_len = pegar_maximo_overlap(reads, min_len)\n",
    "    \n",
    "    return ''.join(reads)\n",
    "\n",
    "olc_guloso(reads, min_len=3)"
   ]
  },
  {
   "cell_type": "markdown",
   "id": "banner-toddler",
   "metadata": {},
   "source": [
    "## 2. Grafos De Bruijn \n",
    "\n",
    "A ideia principal do algoritmo é trabalhar com a sobreposição de k-mers. Para isso, as funções implementadas Vamos trabalhar somente com as funções `de_bruijn_graph` e `visualizar_de_bruijn`."
   ]
  },
  {
   "cell_type": "code",
   "execution_count": 7,
   "id": "consecutive-gamma",
   "metadata": {},
   "outputs": [],
   "source": [
    "def de_bruijn_graph(dna_seq, kmer):\n",
    "    vertices = set()\n",
    "    arestas = list()\n",
    "    \n",
    "    for i in range(len(dna_seq) - kmer + 1):\n",
    "        vertices.add(dna_seq[i: i+kmer-1])\n",
    "        vertices.add(dna_seq[i+1: i+kmer])\n",
    "        \n",
    "        arestas.append((dna_seq[i:i+kmer-1], dna_seq[i+1: i+kmer]))\n",
    "    \n",
    "    return vertices, arestas"
   ]
  },
  {
   "cell_type": "code",
   "execution_count": 8,
   "id": "dried-forge",
   "metadata": {},
   "outputs": [],
   "source": [
    "vertices, arestas = de_bruijn_graph(dna_seq, 4)"
   ]
  },
  {
   "cell_type": "code",
   "execution_count": 9,
   "id": "stretch-payday",
   "metadata": {},
   "outputs": [
    {
     "name": "stdout",
     "output_type": "stream",
     "text": [
      "Os vértices são {'GAC', 'GCA', 'TGC', 'TTG', 'TGA', 'CAA', 'ATT', 'CAT', 'GGC', 'AAT', 'TGG', 'TTT'}\n"
     ]
    }
   ],
   "source": [
    "print(f'Os vértices são {vertices}')"
   ]
  },
  {
   "cell_type": "code",
   "execution_count": 10,
   "id": "worst-dubai",
   "metadata": {},
   "outputs": [
    {
     "name": "stdout",
     "output_type": "stream",
     "text": [
      "As arestas são [('TGG', 'GGC'), ('GGC', 'GCA'), ('GCA', 'CAT'), ('CAT', 'ATT'), ('ATT', 'TTG'), ('TTG', 'TGC'), ('TGC', 'GCA'), ('GCA', 'CAA'), ('CAA', 'AAT'), ('AAT', 'ATT'), ('ATT', 'TTT'), ('TTT', 'TTG'), ('TTG', 'TGA'), ('TGA', 'GAC')]\n"
     ]
    }
   ],
   "source": [
    "print(f'As arestas são {arestas}')"
   ]
  },
  {
   "cell_type": "code",
   "execution_count": 11,
   "id": "former-stopping",
   "metadata": {},
   "outputs": [],
   "source": [
    "def visualizar_de_bruijn(dna_seq, kmer):\n",
    "    vertices, arestas = de_bruijn_graph(dna_seq, kmer)\n",
    "    \n",
    "    dot_str = \"digraph \\\"Debruijn graph\\\" {rankdir=\\\"LR\\\";\\n\"\n",
    "    \n",
    "    for v in vertices:\n",
    "        dot_str += f' {v} [label=\"{v}\"];\\n'\n",
    "                                          \n",
    "    for fonte, destino in arestas:\n",
    "        dot_str += f' {fonte} -> {destino};\\n'\n",
    "    \n",
    "    dot_str += '}\\n'\n",
    "    return dot_str"
   ]
  },
  {
   "cell_type": "code",
   "execution_count": 12,
   "id": "peripheral-nicholas",
   "metadata": {},
   "outputs": [
    {
     "name": "stdout",
     "output_type": "stream",
     "text": [
      "digraph \"Debruijn graph\" {rankdir=\"LR\";\n",
      " GAC [label=\"GAC\"];\n",
      " GCA [label=\"GCA\"];\n",
      " TGC [label=\"TGC\"];\n",
      " TTG [label=\"TTG\"];\n",
      " TGA [label=\"TGA\"];\n",
      " CAA [label=\"CAA\"];\n",
      " ATT [label=\"ATT\"];\n",
      " CAT [label=\"CAT\"];\n",
      " GGC [label=\"GGC\"];\n",
      " AAT [label=\"AAT\"];\n",
      " TGG [label=\"TGG\"];\n",
      " TTT [label=\"TTT\"];\n",
      " TGG -> GGC;\n",
      " GGC -> GCA;\n",
      " GCA -> CAT;\n",
      " CAT -> ATT;\n",
      " ATT -> TTG;\n",
      " TTG -> TGC;\n",
      " TGC -> GCA;\n",
      " GCA -> CAA;\n",
      " CAA -> AAT;\n",
      " AAT -> ATT;\n",
      " ATT -> TTT;\n",
      " TTT -> TTG;\n",
      " TTG -> TGA;\n",
      " TGA -> GAC;\n",
      "}\n",
      "\n"
     ]
    }
   ],
   "source": [
    "print(visualizar_de_bruijn(dna_seq, 4))"
   ]
  },
  {
   "cell_type": "markdown",
   "id": "detected-growth",
   "metadata": {},
   "source": [
    "Para visualizar, vamos usar o comando dot de linux/unix"
   ]
  },
  {
   "cell_type": "code",
   "execution_count": 13,
   "id": "warming-productivity",
   "metadata": {},
   "outputs": [],
   "source": [
    "with open(\"dna_seq_4.txt\", \"w\") as f:\n",
    "    grafo = visualizar_de_bruijn(dna_seq, 4)\n",
    "    f.write(grafo)"
   ]
  },
  {
   "cell_type": "code",
   "execution_count": 14,
   "id": "played-plastic",
   "metadata": {},
   "outputs": [],
   "source": [
    "!dot -Tsvg dna_seq_4.txt > dna_seq_4.svg"
   ]
  },
  {
   "cell_type": "markdown",
   "id": "charitable-enemy",
   "metadata": {},
   "source": [
    "<img src='./dna_seq_4.svg'>"
   ]
  },
  {
   "cell_type": "markdown",
   "id": "internal-large",
   "metadata": {},
   "source": [
    "**NOTA: Caso a imagem acima não apareça, favor visualizar a versão em PDF.**"
   ]
  },
  {
   "cell_type": "markdown",
   "id": "figured-million",
   "metadata": {},
   "source": [
    "## Extra: Melhoria de Código"
   ]
  },
  {
   "cell_type": "markdown",
   "id": "cardiac-haven",
   "metadata": {},
   "source": [
    "### Função olc_guloso\n",
    "\n",
    "Na função `olc_guloso` fornecida, as reads, passadas como parâmetro, são alteradas. Isso acontece devido à atribuição por referência que estava sendo feita anteriormente. Para melhorar isso, basta criar a variável `reads_copy = reads.copy()`. Desta forma, após rodar a função, a variável reads continua com seu valor original.\n",
    "\n",
    "Isso foi implementado na função abaixo `olc_guloso_improved`."
   ]
  },
  {
   "cell_type": "code",
   "execution_count": 15,
   "id": "pointed-scholarship",
   "metadata": {},
   "outputs": [
    {
     "name": "stdout",
     "output_type": "stream",
     "text": [
      "TGGCATTGCAATTTGAC\n",
      "['TGGCATTGCAATTTGAC']\n"
     ]
    }
   ],
   "source": [
    "# Demonstração da alteração da variável original\n",
    "reads = ['TGGCA', 'GCATTGCAA', 'TGCAAT', 'CAATT', 'ATTTGAC']\n",
    "print(olc_guloso(reads, min_len=3))\n",
    "print(reads)"
   ]
  },
  {
   "cell_type": "code",
   "execution_count": 16,
   "id": "drawn-tenant",
   "metadata": {},
   "outputs": [
    {
     "name": "stdout",
     "output_type": "stream",
     "text": [
      "TGGCATTGCAATTTGAC\n",
      "['TGGCA', 'GCATTGCAA', 'TGCAAT', 'CAATT', 'ATTTGAC']\n"
     ]
    }
   ],
   "source": [
    "# Código melhorado\n",
    "reads = ['TGGCA', 'GCATTGCAA', 'TGCAAT', 'CAATT', 'ATTTGAC']\n",
    "\n",
    "def olc_guloso_improved(reads, min_len):\n",
    "    readA, readB, overlap_len = pegar_maximo_overlap(reads, min_len)\n",
    "    reads_copy = reads.copy()\n",
    "    \n",
    "    while overlap_len > 0:\n",
    "        reads_copy.remove(readA)\n",
    "        reads_copy.remove(readB)\n",
    "        reads_copy.append(readA + readB[overlap_len:])\n",
    "        \n",
    "        readA, readB,overlap_len = pegar_maximo_overlap(reads_copy, min_len)\n",
    "    \n",
    "    return ''.join(reads_copy)\n",
    "\n",
    "print(olc_guloso_improved(reads, min_len=3))\n",
    "print(reads)"
   ]
  },
  {
   "cell_type": "markdown",
   "id": "conditional-double",
   "metadata": {},
   "source": [
    "### Funções de overlap"
   ]
  },
  {
   "cell_type": "markdown",
   "id": "leading-flush",
   "metadata": {},
   "source": [
    "No código apresentado em aula, haviam duas funções que calculavam overlaps: uma para todos e outra para o máximo overlap. Uma forma de melhorar estas funções é guardando o tamanho do máximo overlap na função que busca por todos.\n",
    "\n",
    "Isso foi implementado abaixo, com a flag `only_max` indicando se deve-se retornar todos os overlaps encontrados ou apenas o maior. Dessa forma, as funções `naive_overlap` e `pegar_maximo_overlap` foram combinadas em uma mais eficiente que chamamos de `get_overlaps`."
   ]
  },
  {
   "cell_type": "code",
   "execution_count": 17,
   "id": "urban-liabilities",
   "metadata": {},
   "outputs": [],
   "source": [
    "def get_overlaps(reads, min_len, only_max=False):\n",
    "    overlaps = dict()\n",
    "    max_overlap_len = 0\n",
    "    best = None\n",
    "    \n",
    "    for a, b in permutations(reads, 2):\n",
    "        overlap_len = overlap(a, b, min_len)\n",
    "        \n",
    "        if overlap_len > 0:\n",
    "            overlaps[(a, b)] = overlap_len\n",
    "            if overlap_len > max_overlap_len:\n",
    "                max_overlap_len = overlap_len\n",
    "                best = (a, b, max_overlap_len)\n",
    "    \n",
    "    if only_max:\n",
    "        return best\n",
    "    else:\n",
    "        return overlaps"
   ]
  },
  {
   "cell_type": "code",
   "execution_count": 18,
   "id": "incredible-campaign",
   "metadata": {},
   "outputs": [
    {
     "data": {
      "text/plain": [
       "{('TGGCA', 'GCATTGCAA'): 3,\n",
       " ('GCATTGCAA', 'TGCAAT'): 5,\n",
       " ('GCATTGCAA', 'CAATT'): 3,\n",
       " ('TGCAAT', 'CAATT'): 4,\n",
       " ('CAATT', 'ATTTGAC'): 3}"
      ]
     },
     "execution_count": 18,
     "metadata": {},
     "output_type": "execute_result"
    }
   ],
   "source": [
    "get_overlaps(reads, min_len=3, only_max=False)"
   ]
  },
  {
   "cell_type": "code",
   "execution_count": 19,
   "id": "refined-sheffield",
   "metadata": {},
   "outputs": [
    {
     "data": {
      "text/plain": [
       "('GCATTGCAA', 'TGCAAT', 5)"
      ]
     },
     "execution_count": 19,
     "metadata": {},
     "output_type": "execute_result"
    }
   ],
   "source": [
    "get_overlaps(reads, min_len=3, only_max=True)"
   ]
  }
 ],
 "metadata": {
  "kernelspec": {
   "display_name": "Python 3",
   "language": "python",
   "name": "python3"
  },
  "language_info": {
   "codemirror_mode": {
    "name": "ipython",
    "version": 3
   },
   "file_extension": ".py",
   "mimetype": "text/x-python",
   "name": "python",
   "nbconvert_exporter": "python",
   "pygments_lexer": "ipython3",
   "version": "3.8.5"
  },
  "varInspector": {
   "cols": {
    "lenName": 16,
    "lenType": 16,
    "lenVar": 40
   },
   "kernels_config": {
    "python": {
     "delete_cmd_postfix": "",
     "delete_cmd_prefix": "del ",
     "library": "var_list.py",
     "varRefreshCmd": "print(var_dic_list())"
    },
    "r": {
     "delete_cmd_postfix": ") ",
     "delete_cmd_prefix": "rm(",
     "library": "var_list.r",
     "varRefreshCmd": "cat(var_dic_list()) "
    }
   },
   "types_to_exclude": [
    "module",
    "function",
    "builtin_function_or_method",
    "instance",
    "_Feature"
   ],
   "window_display": false
  }
 },
 "nbformat": 4,
 "nbformat_minor": 5
}
